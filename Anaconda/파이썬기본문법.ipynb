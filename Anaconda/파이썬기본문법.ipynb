{
 "cells": [
  {
   "cell_type": "markdown",
   "id": "6feeadc0",
   "metadata": {},
   "source": [
    "# 파이썬 기본명령어"
   ]
  },
  {
   "cell_type": "code",
   "execution_count": 1,
   "id": "751a0391",
   "metadata": {},
   "outputs": [
    {
     "name": "stdout",
     "output_type": "stream",
     "text": [
      "Python 3.9.7\n"
     ]
    }
   ],
   "source": [
    "!python -V"
   ]
  },
  {
   "cell_type": "code",
   "execution_count": 2,
   "id": "2a06260a",
   "metadata": {},
   "outputs": [
    {
     "name": "stdout",
     "output_type": "stream",
     "text": [
      "hello world\n"
     ]
    }
   ],
   "source": [
    "print(\"hello world\")"
   ]
  },
  {
   "cell_type": "code",
   "execution_count": 3,
   "id": "c25bbdfa",
   "metadata": {},
   "outputs": [
    {
     "name": "stdout",
     "output_type": "stream",
     "text": [
      "5\n",
      "-10\n",
      "3.14\n",
      "100000\n",
      "8\n",
      "15\n",
      "24\n"
     ]
    }
   ],
   "source": [
    "#숫자형 자료형\n",
    "print(5)\n",
    "print(-10)\n",
    "print(3.14)\n",
    "print(100000)\n",
    "print(3+5)\n",
    "print(5*3)\n",
    "print(3*(3+5))"
   ]
  },
  {
   "cell_type": "code",
   "execution_count": 5,
   "id": "61b41f25",
   "metadata": {},
   "outputs": [
    {
     "name": "stdout",
     "output_type": "stream",
     "text": [
      "나비\n",
      "풍선\n",
      "쿠쿠루삥뽕\n",
      "하하하하하하하하하하\n"
     ]
    }
   ],
   "source": [
    "#문자열 자료형\n",
    "print(\"나비\")\n",
    "print('풍선')\n",
    "print('쿠쿠루삥뽕')\n",
    "print(\"하\"*10)"
   ]
  },
  {
   "cell_type": "code",
   "execution_count": 7,
   "id": "6da9c21b",
   "metadata": {},
   "outputs": [
    {
     "name": "stdout",
     "output_type": "stream",
     "text": [
      "False\n",
      "True\n",
      "True\n",
      "False\n",
      "False\n",
      "True\n",
      "True\n"
     ]
    }
   ],
   "source": [
    "#boolean 지료형\n",
    "print(5>10)\n",
    "print(10>5)\n",
    "print(True)\n",
    "print(False) #true\n",
    "print(not True)#false\n",
    "print(not False)#true\n",
    "print(not 5>10)#true"
   ]
  },
  {
   "cell_type": "code",
   "execution_count": 15,
   "id": "c6ce9597",
   "metadata": {},
   "outputs": [
    {
     "name": "stdout",
     "output_type": "stream",
     "text": [
      "우리집강아지이름은 복실이입니다\n",
      "복실이는 4살이며산책을 좋아합니다\n",
      "복실이는 어른일까요?True\n"
     ]
    }
   ],
   "source": [
    "#변수\n",
    "# print(\"우리집 강아지 이름은 동글이입니다\")\n",
    "# print(\"복실이는 4살이며 산책을 좋아합니다\")\n",
    "# print(\"복실이는 어른일까요? True\")\n",
    "\n",
    "animal=\"강아지\"\n",
    "name=\"복실이\"\n",
    "age=4\n",
    "hobby=\"산책\"\n",
    "Is_adult=age>=3\n",
    "print(\"우리집\"+animal+\"이름은 \"+name+\"입니다\")\n",
    "print(name+\"는 \"+str (age)+\"살이며\"+hobby+\"을 좋아합니다\")\n",
    "print(name+\"는 어른일까요?\"+str (Is_adult))"
   ]
  },
  {
   "cell_type": "code",
   "execution_count": 33,
   "id": "492a3085",
   "metadata": {},
   "outputs": [
    {
     "name": "stdout",
     "output_type": "stream",
     "text": [
      "우리집고양이이름은 야옹이입니다\n",
      "야옹이는 4살이며산책을 좋아합니다\n",
      "야옹이는 어른일까요? True\n"
     ]
    }
   ],
   "source": [
    "#변수를 선언하여 놓으면은 비슷하게 응용하여 사용할 수 있음\n",
    "animal=\"고양이\"\n",
    "name=\"야옹이\"\n",
    "age=4\n",
    "hobby=\"산책\"\n",
    "Is_adult=age>=3\n",
    "print(\"우리집\"+animal+\"이름은 \"+name+\"입니다\")\n",
    "print(name+\"는 \"+str (age)+\"살이며\"+hobby+\"을 좋아합니다\")\n",
    "print(name+\"는 어른일까요?\"Is_adult)"
   ]
  },
  {
   "cell_type": "code",
   "execution_count": 18,
   "id": "173ef411",
   "metadata": {},
   "outputs": [
    {
     "name": "stdout",
     "output_type": "stream",
     "text": [
      "우리집고양이이름은 야옹이입니다\n",
      "야옹이 는  4 살이며 산책 을 좋아합니다\n",
      "야옹이는 어른일까요?True\n"
     ]
    }
   ],
   "source": [
    "#콤마를 사용하면 변환없이 사용할수 있다. 콤마는 디폴트로 스페이스를 가져감\n",
    "animal=\"고양이\"\n",
    "name=\"야옹이\"\n",
    "age=4\n",
    "hobby=\"산책\"\n",
    "Is_adult=age>=3\n",
    "print(\"우리집\"+animal+\"이름은 \"+name+\"입니다\")\n",
    "print(name,\"는 \",age,\"살이며\",hobby,\"을 좋아합니다\")\n",
    "print(name+\"는 어른일까요?\"+str (Is_adult))"
   ]
  },
  {
   "cell_type": "code",
   "execution_count": 23,
   "id": "c3473fcd",
   "metadata": {},
   "outputs": [
    {
     "data": {
      "text/plain": [
       "'이렇게하면\\n여러문장이\\n주석처리\\n됩니다'"
      ]
     },
     "execution_count": 23,
     "metadata": {},
     "output_type": "execute_result"
    }
   ],
   "source": [
    "#주석?\n",
    "'''이렇게하면\n",
    "여러문장이\n",
    "주석처리\n",
    "됩니다'''"
   ]
  },
  {
   "cell_type": "code",
   "execution_count": 24,
   "id": "8afd6461",
   "metadata": {},
   "outputs": [],
   "source": [
    "#퀴즈\n",
    "#변수를 사용하여 다름문장을 출력사키시오\n",
    "#변수명: station\n",
    "# 변수값: 사당/신도림/인천공항..\n",
    "# 출력문장\n",
    "# xxx행 열차가 들어오고 있습니다"
   ]
  },
  {
   "cell_type": "code",
   "execution_count": 26,
   "id": "bbd48134",
   "metadata": {},
   "outputs": [
    {
     "name": "stdout",
     "output_type": "stream",
     "text": [
      "신도림 행 열차가 들어오고 있습니다\n"
     ]
    }
   ],
   "source": [
    "#answer\n",
    "station=\"신도림\"\n",
    "print(station,\"행 열차가 들어오고 있습니다\")"
   ]
  },
  {
   "cell_type": "code",
   "execution_count": 34,
   "id": "a0036e12",
   "metadata": {},
   "outputs": [
    {
     "name": "stdout",
     "output_type": "stream",
     "text": [
      "2\n",
      "1\n",
      "10\n",
      "3.0\n",
      "8\n",
      "1\n",
      "1\n",
      "3.3333333333333335\n",
      "1\n",
      "True\n",
      "False\n",
      "True\n",
      "True\n",
      "False\n",
      "True\n",
      "True\n",
      "True\n",
      "True\n",
      "True\n",
      "False\n"
     ]
    }
   ],
   "source": [
    "#연산자\n",
    "print(1+1)\n",
    "print(3-2)\n",
    "print(5*2)\n",
    "print(6/2)\n",
    "\n",
    "print(2**3) #2의 3승\n",
    "print(5%2)#나머지\n",
    "print(10%3)\n",
    "print(10/3)#몫 소수표시\n",
    "print(5//3)# 몫 소수생략\n",
    "\n",
    "print(3.==3)\n",
    "print(4==2)\n",
    "print(3+4==7)\n",
    "\n",
    "print(1!=3)\n",
    "print(not(1 !=3))#False\n",
    "print((3>0)and(3<5))#true\n",
    "print((3>0)&(3<5))\n",
    "\n",
    "print(((3>0)or(3>5)))\n",
    "print((3>0)|(3>5))\n",
    "\n",
    "print(5>4>3)\n",
    "print(5>4>7) #false"
   ]
  },
  {
   "cell_type": "code",
   "execution_count": 37,
   "id": "f50f5825",
   "metadata": {},
   "outputs": [
    {
     "name": "stdout",
     "output_type": "stream",
     "text": [
      "14\n",
      "20\n",
      "14\n",
      "16\n",
      "18\n",
      "36\n",
      "18.0\n",
      "16.0\n",
      "1.0\n"
     ]
    }
   ],
   "source": [
    "#간단한 수식들\n",
    "print(2+3*4) #14\n",
    "print((2+3)*4)#20\n",
    "number=2+3*4\n",
    "print(number)#14\n",
    "number=number+2\n",
    "print(number)#16\n",
    "number+=2 #number=number+2\n",
    "print(number)\n",
    "number*=2#number=number*2\n",
    "print(number)\n",
    "number /=2 #number=number/2\n",
    "print(number)\n",
    "number-=2 #number=number-2\n",
    "print(number)\n",
    "\n",
    "number%=5 #number=number%5\n",
    "print(number)"
   ]
  },
  {
   "cell_type": "code",
   "execution_count": 43,
   "id": "5cf02ded",
   "metadata": {},
   "outputs": [
    {
     "name": "stdout",
     "output_type": "stream",
     "text": [
      "5\n",
      "16.0\n",
      "12\n",
      "5\n",
      "3\n",
      "4\n",
      "4\n",
      "4\n",
      "5.0\n"
     ]
    }
   ],
   "source": [
    "#숫자처리함수\n",
    "print(abs(-5))\n",
    "print(pow(4,2))#16\n",
    "print(max(5,12))\n",
    "print(min(5,12))\n",
    "print(round(3.14))\n",
    "print(round(3.99))\n",
    "\n",
    "from math import *\n",
    "print(floor(4.99))\n",
    "print(ceil(3.001))#4\n",
    "print(sqrt(25))"
   ]
  },
  {
   "cell_type": "code",
   "execution_count": 49,
   "id": "5dd15462",
   "metadata": {},
   "outputs": [
    {
     "name": "stdout",
     "output_type": "stream",
     "text": [
      "0.5043494551614502\n",
      "2.198058010814443\n",
      "8\n",
      "로또추첨기\n",
      "33\n",
      "24\n",
      "17\n",
      "17\n",
      "15\n",
      "23\n",
      "로또값을 생성하는 방법2\n",
      "29\n",
      "44\n",
      "43\n",
      "5\n",
      "15\n",
      "4\n"
     ]
    }
   ],
   "source": [
    "#랜덤함수\n",
    "from random import *\n",
    "print(random()) #0~1미만의 임의의 값을 생성\n",
    "print(random()*10)\n",
    "print(int(random()*10))\n",
    "\n",
    "#로또값을 생성하는 방법\n",
    "print(\"로또추첨기\")\n",
    "print(int(random()*45)+1)\n",
    "print(int(random()*45)+1)\n",
    "print(int(random()*45)+1)\n",
    "print(int(random()*45)+1)\n",
    "print(int(random()*45)+1)\n",
    "print(int(random()*45)+1)\n",
    "\n",
    "print(\"로또값을 생성하는 방법2\")\n",
    "print(randint(1,45))#1~45이하의 겂울 뽑아준다\n",
    "print(randint(1,45))\n",
    "print(randint(1,45))\n",
    "print(randint(1,45))\n",
    "print(randint(1,45))\n",
    "print(randint(1,45))"
   ]
  },
  {
   "cell_type": "code",
   "execution_count": 50,
   "id": "674fd251",
   "metadata": {},
   "outputs": [
    {
     "name": "stdout",
     "output_type": "stream",
     "text": [
      "오프라인 스터디 모임날짜는 매월 23 일로 선정되었습니다\n"
     ]
    }
   ],
   "source": [
    "# 퀴즈2\n",
    "# 당신은 최근에 코딩스터디모임 일정을 잡으려고 합니다\n",
    "# 월 4회 스터디를 하는데 3번은 온라인으로 1번은 오프라인으로 진행하기로 함\n",
    "# 아래 조건에 맞는 오프라인 모임 날짜를 정합시다\n",
    "# 조건1 :랜덤으로 날자를 뽑을것\n",
    "# 조건2 : 월별날자는 다름을 참고하여 최소일수는 28일 이내로 설정\n",
    "# 조건3 : 매월 1~3일은 스터디 준비를 하는 시간이므로 제외\n",
    "\n",
    "# 출력문은\n",
    "# 오프라인스터디 모임날짜는 매월 x일로 선정되었습니다\n",
    "\n",
    "#my ans\n",
    "a=randint(4,28)\n",
    "print(\"오프라인 스터디 모임날짜는 매월\",a,\"일로 선정되었습니다\")"
   ]
  },
  {
   "cell_type": "code",
   "execution_count": 52,
   "id": "97933c2d",
   "metadata": {},
   "outputs": [
    {
     "name": "stdout",
     "output_type": "stream",
     "text": [
      "오프라인 스터디 모임날자는 매월 15일로 선정되었습니다\n"
     ]
    }
   ],
   "source": [
    "#answer\n",
    "from random import *\n",
    "date=randint(4,28)\n",
    "print(\"오프라인 스터디 모임날자는 매월 \"+str(date)+\"일로 선정되었습니다\")"
   ]
  },
  {
   "cell_type": "code",
   "execution_count": 55,
   "id": "fd2bd66c",
   "metadata": {},
   "outputs": [
    {
     "name": "stdout",
     "output_type": "stream",
     "text": [
      "나는 소년입니다!\n",
      "파이썬은 쉬워요\n",
      "\n",
      "나는소년이고\n",
      "파이선은 쉬워요\n"
     ]
    }
   ],
   "source": [
    "#문자열\n",
    "sentence=\"나는 소년입니다!\"\n",
    "print(sentence)\n",
    "\n",
    "sentence2=\"파이썬은 쉬워요\"\n",
    "print(sentence2)\n",
    "\n",
    "sentence3='''\n",
    "나는소년이고\n",
    "파이선은 쉬워요'''\n",
    "print(sentence3)"
   ]
  },
  {
   "cell_type": "code",
   "execution_count": 61,
   "id": "e67bb1a6",
   "metadata": {},
   "outputs": [
    {
     "name": "stdout",
     "output_type": "stream",
     "text": [
      "성별: 1\n",
      "년:99\n",
      "월:12\n",
      "일:12\n",
      "생년월일:991212\n",
      "뒤 7자리:1234567\n",
      "뒤 7자리(뒤에서 7자리):1234567\n"
     ]
    }
   ],
   "source": [
    "#슬라이싱\n",
    "jumin=\"991212-1234567\"\n",
    "print(\"성별: \"+jumin[7])\n",
    "print(\"년:\"+jumin[0:2]) #0부터 2직전까지\n",
    "print(\"월:\"+jumin[2:4])\n",
    "print(\"일:\"+jumin[4:6])\n",
    "\n",
    "print(\"생년월일:\"+jumin[:6]) #처음부터 6직전까지, 커서 위치로 띵킹\n",
    "print(\"뒤 7자리:\"+jumin[7:])\n",
    "print(\"뒤 7자리(뒤에서 7자리):\"+jumin[-7:]) #맨뒤부터 7번째부터 끝까지"
   ]
  },
  {
   "cell_type": "code",
   "execution_count": 75,
   "id": "675a35e2",
   "metadata": {},
   "outputs": [
    {
     "name": "stdout",
     "output_type": "stream",
     "text": [
      "python is awsome johnson\n",
      "PYTHON IS AWSOME JOHNSON\n",
      "True\n",
      "24\n",
      "JAVA is Awsome johnson\n",
      "5\n",
      "20\n",
      "5\n",
      "-1\n",
      "Python is Awsome johnson\n",
      "HI\n",
      "3\n"
     ]
    }
   ],
   "source": [
    "#문자열 처리함수\n",
    "Python=\"Python is Awsome johnson\"\n",
    "print(Python.lower())\n",
    "print(Python.upper())\n",
    "print(Python[0].isupper())\n",
    "print(len(Python))\n",
    "print(Python.replace(\"Python\",\"JAVA\"))\n",
    "\n",
    "index=Python.index(\"n\")#순서를 이야기하는 문법\n",
    "print(index)\n",
    "index=Python.index(\"n\",index+1)#첫번째를 찾은 그 다음부터 서칭하라\n",
    "print(index)\n",
    "\n",
    "print(Python.find(\"n\"))\n",
    "print(Python.find(\"JAVA\"))\n",
    "print(Python)\n",
    "#print(Python,index(\"JAVA\"))\n",
    "print(\"HI\")\n",
    "\n",
    "print(Python.count(\"n\"))"
   ]
  },
  {
   "cell_type": "code",
   "execution_count": 20,
   "id": "597d4425",
   "metadata": {},
   "outputs": [
    {
     "name": "stdout",
     "output_type": "stream",
     "text": [
      "ab\n",
      "a b\n",
      "나는 20살입니다.\n",
      "나는 20살입니다\n",
      "나는 파이썬을 좋아해요\n",
      "Apple은 A로 시작해요\n",
      "나는 20 살입니다\n",
      "나는 파란색과 빨간색을 좋아합니다\n",
      "나는20살입니다.\n",
      "나는 빨간색과 파란을 좋아해요\n",
      "나는 20살이며,빨간색을 좋아해요\n",
      "나는20살이며 빨간색을 좋아해요\n"
     ]
    }
   ],
   "source": [
    "#문자열 포멧?\n",
    "print(\"a\"+\"b\")\n",
    "print(\"a\",\"b\")\n",
    "\n",
    "#방법1\n",
    "print(\"나는 20살입니다.\")\n",
    "print(\"나는 %d살입니다\" %20)\n",
    "print(\"나는 %s을 좋아해요\"%\"파이썬\")\n",
    "print(\"Apple은 %c로 시작해요\" %\"A\")\n",
    "\n",
    "# %s를 사용하는경우들\n",
    "print(\"나는 %s 살입니다\" %20)\n",
    "print(\"나는 %s색과 %s색을 좋아합니다\" %(\"파란\",\"빨간\"))\n",
    "\n",
    "#방법2\n",
    "print(\"나는{}살입니다.\".format(20))\n",
    "print(\"나는 {1}색과 {0}을 좋아해요\".format(\"파란\",\"빨간\"))\n",
    "\n",
    "#방법3\n",
    "print(\"나는 {age}살이며,{color}색을 좋아해요\".format(age=20,color=\"빨간\"))\n",
    "\n",
    "#방법4 (v3.8~)\n",
    "age=20\n",
    "color=\"빨간\"\n",
    "print(f'나는{age}살이며 {color}색을 좋아해요')"
   ]
  },
  {
   "cell_type": "code",
   "execution_count": 30,
   "id": "788ce22c",
   "metadata": {},
   "outputs": [
    {
     "name": "stdout",
     "output_type": "stream",
     "text": [
      "백문이 불여일견 \n",
      " 벡번보는 것 보다 한번보는게 낫다\n",
      "저는 '이성우'입니다\n",
      "저는 \"이성우\"입니다\n",
      "저는 \"이성우\"입니다\n",
      "저는 '이성우'입니다\n",
      "c:\\user\\lsw\n",
      "Red Apple\r",
      "Pine\n",
      "Redd\bApple\n",
      "Red\tApple\n"
     ]
    }
   ],
   "source": [
    "#탈출문자\n",
    "print(\"백문이 불여일견 \\n 벡번보는 것 보다 한번보는게 낫다\") #개행문자: 엔터역할\n",
    "\n",
    "#저는 장영완입니다\n",
    "print(\"저는 '이성우'입니다\")\n",
    "print('저는 \"이성우\"입니다')\n",
    "print(\"저는 \\\"이성우\\\"입니다\")\n",
    "print(\"저는 \\'이성우\\'입니다\")\n",
    "\n",
    "# \\\\ :문장내에서 \\를 의미한다\n",
    "print(\"c:\\\\user\\\\lsw\")\n",
    "\n",
    "# \\r커서를 맨앞으로 이동시켜주는것\n",
    "print(\"Red Apple\\rPine\")\n",
    "# \\b : 백스페이스(한글자 삭제)\n",
    "print(\"Redd\\bApple\")\n",
    "\n",
    "# \\t :탭\n",
    "print(\"Red\\tApple\")"
   ]
  },
  {
   "cell_type": "code",
   "execution_count": 135,
   "id": "da621fbe",
   "metadata": {},
   "outputs": [
    {
     "name": "stdout",
     "output_type": "stream",
     "text": [
      "nav51!\n",
      "goo61!\n",
      "dau40!\n"
     ]
    }
   ],
   "source": [
    "#퀴즈 1\n",
    "# Quiz) 사이트별로 비밀번호를 만들어주는 프로그램 작성\n",
    "\n",
    "# 예)https://naver.com https://google.com, https://daum.net\n",
    "# 규칙 1. http://부분 제외 - naver.com\n",
    "# 규칙 2. 처음 만나는 점(.) 이후부분 제외 - naver\n",
    "# 규칙 3. 남은 글자 중 처음 세자리+글자개수 +글자 내 'e' 개수+\"!\"로 구성\n",
    "# 예) 생성된 비밀번호: nav51!\n",
    "\n",
    "site = \"https://naver.com\"\n",
    "site = site.replace(\"https://\",\"\")\n",
    "site = site[:site.find(\".\")]\n",
    "print(\"{0}{1}{2}!\".format(site[0:3],len(site),site.count(\"e\")))\n",
    "\n",
    "site = \"https://google.com\"\n",
    "site = site.replace(\"https://\",\"\")\n",
    "site = site[:site.find(\".\")]\n",
    "print(\"{0}{1}{2}!\".format(site[0:3],len(site),site.count(\"e\")))\n",
    "\n",
    "site = \"https://daum.net\"\n",
    "site = site.replace(\"https://\",\"\")\n",
    "site = site[:site.find(\".\")]\n",
    "print(\"{0}{1}{2}!\".format(site[0:3],len(site),site.count(\"e\")))"
   ]
  },
  {
   "cell_type": "code",
   "execution_count": 52,
   "id": "50f80fe5",
   "metadata": {},
   "outputs": [
    {
     "name": "stdout",
     "output_type": "stream",
     "text": [
      "[10, 20, 30]\n",
      "10\n",
      "['유재석', '박명수', '조세호']\n",
      "1\n",
      "['유재석', '박명수', '조세호', '하하']\n",
      "['유재석', '정형돈', '박명수', '조세호', '하하']\n",
      "하하\n",
      "['유재석', '정형돈', '박명수', '조세호']\n",
      "조세호\n",
      "['유재석', '정형돈', '박명수']\n",
      "['유재석', '정형돈', '박명수', '유재석']\n",
      "2\n",
      "[1, 2, 3, 4, 5]\n",
      "[5, 4, 3, 2, 1]\n",
      "[]\n",
      "['조세호', 20, True]\n",
      "[5, 4, 3, 2, 1, '조세호', 20, True]\n"
     ]
    },
    {
     "data": {
      "text/plain": [
       "[]"
      ]
     },
     "execution_count": 52,
     "metadata": {},
     "output_type": "execute_result"
    }
   ],
   "source": [
    "#리스트\n",
    "subway1=10\n",
    "subway2=20\n",
    "subway3=30\n",
    "\n",
    "subway=[10,20,30]\n",
    "print(subway)\n",
    "print(subway[0])\n",
    "subway=[\"유재석\",\"박명수\",\"조세호\"]\n",
    "print(subway)\n",
    "\n",
    "#박명수씨가 몇번째 칸에 타고있는가?\n",
    "print(subway.index(\"박명수\"))\n",
    "\n",
    "#하하씨가 다음정류장에서 탑승함\n",
    "subway.append(\"하하\")\n",
    "print(subway)\n",
    "\n",
    "#정형돈씨를 유재석과 박명수 사이에 집어넣어보자\n",
    "subway.insert(1,\"정형돈\")\n",
    "print(subway)\n",
    "\n",
    "#지하철에 있는 사람들 한명씩 뒤에서 꺼냄\n",
    "print(subway.pop())\n",
    "print(subway)\n",
    "print(subway.pop())\n",
    "print(subway)\n",
    "\n",
    "#같은 이름의 사람이 몇명 있는지 확인\n",
    "subway.append(\"유재석\")\n",
    "print(subway)\n",
    "print(subway.count(\"유재석\"))\n",
    "\n",
    "#정렬도 가능(내림차순, 오름차순)\n",
    "num_list=[5,2,4,1,3]\n",
    "num_list.sort()\n",
    "print(num_list)\n",
    "\n",
    "num_list.reverse()\n",
    "print(num_list)\n",
    "\n",
    "#모두지우기\n",
    "num_list.clear()\n",
    "print(num_list)\n",
    "\n",
    "#다양한 데이터 타입들이 존재할수있음\n",
    "mix_list=[\"조세호\",20,True]\n",
    "print(mix_list)\n",
    "\n",
    "num_list=[5,4,3,2,1]\n",
    "num_list.extend(mix_list)\n",
    "print(num_list)\n",
    "\n"
   ]
  },
  {
   "cell_type": "code",
   "execution_count": 64,
   "id": "a8653aa9",
   "metadata": {},
   "outputs": [
    {
     "name": "stdout",
     "output_type": "stream",
     "text": [
      "유재석\n",
      "김태호\n",
      "유재석\n",
      "True\n",
      "True\n",
      "False\n",
      "유재석\n",
      "김태호\n",
      "{'A-3': '유재석', 'B-100': '김태호'}\n",
      "{'A-3': '김종국', 'B-100': '김태호', 'C-20': '조세호'}\n",
      "{'B-100': '김태호', 'C-20': '조세호'}\n",
      "dict_keys(['B-100', 'C-20'])\n",
      "dict_values(['김태호', '조세호'])\n",
      "dict_items([('B-100', '김태호'), ('C-20', '조세호')])\n",
      "{}\n"
     ]
    }
   ],
   "source": [
    "#사전\n",
    "cabinet={3:\"유재석\",100:\"김태호\"} \n",
    "print(cabinet[3])\n",
    "print(cabinet[100])\n",
    "print(cabinet.get(3))\n",
    "\n",
    "print(3 in cabinet) #존재여부 파익\n",
    "print(100 in cabinet)\n",
    "print(30 in cabinet)\n",
    "\n",
    "# print(cabinet[5]) >>>바로 애러\n",
    "\n",
    "cabinet={\"A-3\":\"유재석\",\"B-100\":\"김태호\"}\n",
    "print(cabinet[\"A-3\"])\n",
    "print(cabinet[\"B-100\"])\n",
    "\n",
    "#새 손님\n",
    "print(cabinet)\n",
    "cabinet[\"A-3\"]=\"김종국\"\n",
    "cabinet[\"C-20\"]=\"조세호\"\n",
    "print(cabinet)\n",
    "\n",
    "#간 손님\n",
    "del cabinet[\"A-3\"]\n",
    "print(cabinet)\n",
    "\n",
    "#key들만 출럭\n",
    "print(cabinet.keys())\n",
    "#value들만 출력\n",
    "print(cabinet.values())\n",
    "#key,value쌍으로 출력\n",
    "print(cabinet.items())\n",
    "\n",
    "#폐정\n",
    "cabinet.clear()\n",
    "print(cabinet)"
   ]
  },
  {
   "cell_type": "code",
   "execution_count": 68,
   "id": "aa0dc99b",
   "metadata": {},
   "outputs": [
    {
     "name": "stdout",
     "output_type": "stream",
     "text": [
      "돈까스\n",
      "치즈까스\n",
      "이성우 27 코딩\n"
     ]
    }
   ],
   "source": [
    "#튜플?\n",
    "#내용변경 및 추가 불가능\n",
    "#속도가 리스트보다 빠르기 때문에 변경되는 어떤내용에 사용하기도 함\n",
    "\n",
    "menu=(\"돈까스\",\"치즈까스\")\n",
    "print(menu[0])\n",
    "print(menu[1])\n",
    "\n",
    "#menu.add(\"생선가스\")\n",
    "(name,age, study)=(\"이성우\",27,\"코딩\")\n",
    "print(name,age, study)"
   ]
  },
  {
   "cell_type": "code",
   "execution_count": 72,
   "id": "689e6ec9",
   "metadata": {},
   "outputs": [
    {
     "name": "stdout",
     "output_type": "stream",
     "text": [
      "{1, 2, 3}\n",
      "{'유재석', '김태호', '양세형'}\n",
      "{'유재석', '박명수'}\n",
      "{'유재석'}\n",
      "{'김태호', '박명수', '유재석', '양세형'}\n",
      "{'김태호', '박명수', '유재석', '양세형'}\n",
      "{'김태호', '양세형'}\n",
      "{'김태호', '양세형'}\n",
      "{'유재석', '김태호', '박명수'}\n",
      "{'유재석', '양세형'}\n"
     ]
    }
   ],
   "source": [
    "#세트(집합) : 중복이 안되며 순서가 없음\n",
    "my_set={1,2,3,3,3}\n",
    "print(my_set)\n",
    "\n",
    "java={\"유재석\",\"김태호\",\"양세형\"}\n",
    "python=set([\"유재석\",\"박명수\"])\n",
    "print(java)\n",
    "print(python)\n",
    "\n",
    "#교집합(java와 ptthon을 할수있는 게빌지)\n",
    "print(java&python)\n",
    "\n",
    "#합집합 (java를 할수있거나 python을 할수있는 개발자)\n",
    "print(java|python)\n",
    "print(java.union(python)) #순서가 보장되지 않음\n",
    "\n",
    "#차집합(java를 할 수 있지만 python은 할 줄 모르는 개발자)\n",
    "print(java-python)\n",
    "print(java.difference(python))\n",
    "\n",
    "#python 할 수 있는 사람이 늘어남\n",
    "python.add(\"김태호\")\n",
    "print(python)\n",
    "\n",
    "#java를 까먹었음\n",
    "java.remove(\"김태호\")\n",
    "print(java)"
   ]
  },
  {
   "cell_type": "code",
   "execution_count": 73,
   "id": "c55af0b2",
   "metadata": {},
   "outputs": [
    {
     "name": "stdout",
     "output_type": "stream",
     "text": [
      "{'커피', '쥬스', '우유'}\n",
      "{'커피', '쥬스', '우유'} <class 'set'>\n",
      "['커피', '쥬스', '우유'] <class 'list'>\n",
      "('커피', '쥬스', '우유') <class 'tuple'>\n",
      "{'커피', '쥬스', '우유'} <class 'set'>\n"
     ]
    }
   ],
   "source": [
    "#자료구조의 타입: 리스트/튜플/사전/집합\n",
    "#변경\n",
    "menu={\"커피\",\"우유\",\"쥬스\"}\n",
    "print(menu)\n",
    "print(menu,type(menu))\n",
    "\n",
    "menu=list(menu)\n",
    "print(menu,type(menu))\n",
    "\n",
    "menu=tuple(menu)\n",
    "print(menu,type(menu))\n",
    "\n",
    "#다시 원상복구시키는 내용으로\n",
    "menu=set(menu)\n",
    "print(menu,type(menu))"
   ]
  },
  {
   "cell_type": "code",
   "execution_count": 148,
   "id": "27a85a2e",
   "metadata": {},
   "outputs": [
    {
     "name": "stdout",
     "output_type": "stream",
     "text": [
      "----- 당첨자 발표 -----\n",
      "치킨 당첨자 :1\n",
      "커피당첨자 : [15,13,5]\n",
      "--- 축하합니다. ---\n"
     ]
    }
   ],
   "source": [
    "2.#코딩대회를 주최합니다.\n",
    "#참석률을 높이기 위해 댓글 이벤트를 진행하기로 합니다.\n",
    "#댓글 작성자들중에 추첨을 통해 1명은 치킨, 3명은 커피쿠폰을 받기로 함.\n",
    "#추천프로그램을 작성하시오?\n",
    "\n",
    "#조건1 : 편의상 댓글은 20명이 작성하였고 아이디는 1~20이라고 가정\n",
    "#조건2 : 닷글내용과 상관없이 무작위로 추첨하되 중복불가\n",
    "#조건3 : random모듈의 shuffle과 sample을 활용\n",
    "\n",
    "#(출력예제)\n",
    "#----- 당첨자 발표 -----\n",
    "#치킨 당첨자 :1\n",
    "#커피당첨자 : [2,3,4]\n",
    "#--- 축하합니다. ---\n",
    "\n",
    "#(활용예제)\n",
    "# from random import *\n",
    "# lst=[1,2,3,4,5]\n",
    "# print(lst)\n",
    "# shuffle(lst) #무작위로 바꿈.\n",
    "# print(lst)\n",
    "# print(sample(lst,1)) #무작위로 1개를 뽑는다는 뜻임.\n",
    "\n",
    "# Answer\n",
    "repl=range(1,21)\n",
    "repl=list(repl)\n",
    "#print(repl)\n",
    "\n",
    "shuffle(repl)\n",
    "#print(repl)\n",
    "\n",
    "a=sample(repl,4)\n",
    "a=list(a)\n",
    "\n",
    "print(\"----- 당첨자 발표 -----\\n치킨 당첨자 :{}\\n커피당첨자 : [{},{},{}]\\n--- 축하합니다. ---\".format(*a))\n",
    "\n"
   ]
  },
  {
   "cell_type": "code",
   "execution_count": 80,
   "id": "9d4595f9",
   "metadata": {},
   "outputs": [
    {
     "name": "stdout",
     "output_type": "stream",
     "text": [
      "오늘날씨는 어때요?몰?루\n",
      "오늘 준비물은 필요없어요\n"
     ]
    }
   ],
   "source": [
    "#조건문?\n",
    "#weather=\"비\"\n",
    "#weather=\"미세먼지\"\n",
    "weather=input(\"오늘날씨는 어때요?\") #string type 인식된다.\n",
    "if weather==\"비\" or weather==\"눈\":\n",
    "    print (\"우산을 준비하세요\")\n",
    "elif weather==\"미세먼지\":\n",
    "    print(\"마스크를 준비하세요\")\n",
    "else:\n",
    "    print(\"오늘 준비물은 필요없어요\")"
   ]
  },
  {
   "cell_type": "code",
   "execution_count": 82,
   "id": "6b0e1b02",
   "metadata": {
    "scrolled": true
   },
   "outputs": [
    {
     "name": "stdout",
     "output_type": "stream",
     "text": [
      "숫자를 1개 넣어라1\n",
      "숫자를 1개 넣어라2\n",
      "합계 a+b는 : 12\n"
     ]
    }
   ],
   "source": [
    "a=input(\"숫자를 1개 넣어라\")\n",
    "b=input(\"숫자를 1개 넣어라\")\n",
    "print(\"합계 a+b는 :\",a+b) #문자로 인식되서 붙어서 나온다"
   ]
  },
  {
   "cell_type": "code",
   "execution_count": 83,
   "id": "c395e0f9",
   "metadata": {},
   "outputs": [
    {
     "name": "stdout",
     "output_type": "stream",
     "text": [
      "기온은 어때요?99\n",
      "너무 더워요 나가지 마세요\n"
     ]
    }
   ],
   "source": [
    "#위의 내용에서\n",
    "#숫자입력인 경우는?\n",
    "temp= int(input(\"기온은 어때요?\")) #숫자를 위한 int 처리\n",
    "if 30<=temp: \n",
    "    print(\"너무 더워요 나가지 마세요\")\n",
    "elif 10<=temp and temp<30:\n",
    "    print(\"괜찮은 날씨에요\")\n",
    "elif 0<=temp<10:\n",
    "    print(\"외투를 챙기세요\")\n",
    "else:\n",
    "    print(\"너무 추워요 나가지 마세요\")"
   ]
  },
  {
   "cell_type": "code",
   "execution_count": 86,
   "id": "cac3456c",
   "metadata": {},
   "outputs": [
    {
     "name": "stdout",
     "output_type": "stream",
     "text": [
      "대기번호 :1\n",
      "대기번호 :2\n",
      "대기번호 :3\n",
      "대기번호 :4\n",
      "대기번호 :5\n",
      "대기번호 :6\n",
      "대기번호:1\n",
      "대기번호:2\n",
      "대기번호:3\n",
      "대기번호:4\n",
      "대기번호:5\n",
      "대기번호:6\n"
     ]
    }
   ],
   "source": [
    "#반복문 : for()/while()\n",
    "#for 구체적인 숫자가 제시되어 그 안에서 작동\n",
    "#while 값이 true면 무한히 돌아감\n",
    "print(\"대기번호 :1\")\n",
    "print(\"대기번호 :2\")\n",
    "print(\"대기번호 :3\")\n",
    "print(\"대기번호 :4\")\n",
    "print(\"대기번호 :5\")\n",
    "print(\"대기번호 :6\")\n",
    "\n",
    "for waiting_no in range(1,7):\n",
    "    print(\"대기번호:{}\".format(waiting_no)) "
   ]
  },
  {
   "cell_type": "code",
   "execution_count": 87,
   "id": "2b884557",
   "metadata": {},
   "outputs": [
    {
     "name": "stdout",
     "output_type": "stream",
     "text": [
      "토르씨 주문하신 음료 나왔습니다\n",
      "그루트씨 주문하신 음료 나왔습니다\n",
      "헐크씨 주문하신 음료 나왔습니다\n"
     ]
    }
   ],
   "source": [
    "#위의 내용에 이어서 예제로 스타벅스에서 대기번호\n",
    "starbucks=[\"토르\",\"그루트\",\"헐크\"]\n",
    "for customer in starbucks:\n",
    "    print(\"{}씨 주문하신 음료 나왔습니다\".format(customer))"
   ]
  },
  {
   "cell_type": "code",
   "execution_count": 90,
   "id": "bef45707",
   "metadata": {},
   "outputs": [
    {
     "name": "stdout",
     "output_type": "stream",
     "text": [
      "토르씨 음료 준비되었습니다\n",
      "이름이 어떻게 되세요?토르\n"
     ]
    }
   ],
   "source": [
    "#반복문 : while문의 예\n",
    "customer=\"토르\"\n",
    "person=\"Unknown\"\n",
    "while person !=customer:\n",
    "    print(\"{}씨 음료 준비되었습니다\".format(customer))\n",
    "    person=input(\"이름이 어떻게 되세요?\")\n",
    "    "
   ]
  },
  {
   "cell_type": "code",
   "execution_count": 93,
   "id": "86ca1f02",
   "metadata": {},
   "outputs": [
    {
     "name": "stdout",
     "output_type": "stream",
     "text": [
      "1번 책읽어\n",
      "3번 책읽어\n",
      "4번 책읽어\n",
      "6번 책읽어\n",
      "오늘 수업은 여기까지 7는 교무실로\n"
     ]
    }
   ],
   "source": [
    "#continue/break?\n",
    "absent=[2,5]#결석자\n",
    "no_book=[7] #책을 안들고옴\n",
    "for student in range(1,11):\n",
    "    if student in absent:\n",
    "        continue\n",
    "    elif student in no_book:\n",
    "        print(\"오늘 수업은 여기까지 {}는 교무실로\".format(student))\n",
    "        break\n",
    "    print(\"{}번 책읽어\".format(student))"
   ]
  },
  {
   "cell_type": "code",
   "execution_count": 100,
   "id": "096b3c69",
   "metadata": {},
   "outputs": [
    {
     "name": "stdout",
     "output_type": "stream",
     "text": [
      "[1, 2, 3, 4, 5]\n",
      "[101, 102, 103, 104, 105]\n",
      "[8, 4, 4]\n",
      "['IRON MAN', 'THOR', 'ROKI']\n"
     ]
    }
   ],
   "source": [
    "#한줄 forans\n",
    "students=[1,2,3,4,5] #이학생들이 번호가 변경됨\n",
    "print(students)\n",
    "students=[i+100 for i in students]\n",
    "print(students)\n",
    "\n",
    "#학생이름을 길이로 변환\n",
    "students=[\"Iron man\",\"thor\",\"roki\"]\n",
    "students=[len(i) for i in students]\n",
    "print(students)\n",
    "\n",
    "#학생이름을 대문자로\n",
    "students=[\"Iron man\",\"thor\",\"roki\"]\n",
    "students=[i.upper() for i in students]\n",
    "print(students)"
   ]
  },
  {
   "cell_type": "code",
   "execution_count": 172,
   "id": "fa234cf2",
   "metadata": {},
   "outputs": [
    {
     "name": "stdout",
     "output_type": "stream",
     "text": [
      "[] 1 번째 손님(소요시간 : 45 분)\n",
      "총 탑승 승객 : 0 명\n",
      "[] 2 번째 손님(소요시간 : 32 분)\n",
      "총 탑승 승객 : 0 명\n",
      "[] 3 번째 손님(소요시간 : 27 분)\n",
      "총 탑승 승객 : 0 명\n",
      "[] 4 번째 손님(소요시간 : 30 분)\n",
      "총 탑승 승객 : 0 명\n",
      "[] 5 번째 손님(소요시간 : 40 분)\n",
      "총 탑승 승객 : 0 명\n",
      "[O] 6 번째 손님(소요시간 : 14 분)\n",
      "총 탑승 승객 : 1 명\n",
      "[O] 7 번째 손님(소요시간 : 10 분)\n",
      "총 탑승 승객 : 2 명\n",
      "[] 8 번째 손님(소요시간 : 31 분)\n",
      "총 탑승 승객 : 2 명\n",
      "[] 9 번째 손님(소요시간 : 28 분)\n",
      "총 탑승 승객 : 2 명\n",
      "[] 10 번째 손님(소요시간 : 29 분)\n",
      "총 탑승 승객 : 2 명\n",
      "[O] 11 번째 손님(소요시간 : 8 분)\n",
      "총 탑승 승객 : 3 명\n",
      "[] 12 번째 손님(소요시간 : 25 분)\n",
      "총 탑승 승객 : 3 명\n",
      "[] 13 번째 손님(소요시간 : 43 분)\n",
      "총 탑승 승객 : 3 명\n",
      "[] 14 번째 손님(소요시간 : 43 분)\n",
      "총 탑승 승객 : 3 명\n",
      "[] 15 번째 손님(소요시간 : 19 분)\n",
      "총 탑승 승객 : 3 명\n",
      "[] 16 번째 손님(소요시간 : 23 분)\n",
      "총 탑승 승객 : 3 명\n",
      "[O] 17 번째 손님(소요시간 : 12 분)\n",
      "총 탑승 승객 : 4 명\n",
      "[] 18 번째 손님(소요시간 : 22 분)\n",
      "총 탑승 승객 : 4 명\n",
      "[] 19 번째 손님(소요시간 : 17 분)\n",
      "총 탑승 승객 : 4 명\n",
      "[] 20 번째 손님(소요시간 : 34 분)\n",
      "총 탑승 승객 : 4 명\n",
      "[] 21 번째 손님(소요시간 : 34 분)\n",
      "총 탑승 승객 : 4 명\n",
      "[] 22 번째 손님(소요시간 : 49 분)\n",
      "총 탑승 승객 : 4 명\n",
      "[O] 23 번째 손님(소요시간 : 6 분)\n",
      "총 탑승 승객 : 5 명\n",
      "[] 24 번째 손님(소요시간 : 30 분)\n",
      "총 탑승 승객 : 5 명\n",
      "[O] 25 번째 손님(소요시간 : 15 분)\n",
      "총 탑승 승객 : 6 명\n",
      "[] 26 번째 손님(소요시간 : 36 분)\n",
      "총 탑승 승객 : 6 명\n",
      "[O] 27 번째 손님(소요시간 : 6 분)\n",
      "총 탑승 승객 : 7 명\n",
      "[] 28 번째 손님(소요시간 : 41 분)\n",
      "총 탑승 승객 : 7 명\n",
      "[] 29 번째 손님(소요시간 : 40 분)\n",
      "총 탑승 승객 : 7 명\n",
      "[] 30 번째 손님(소요시간 : 47 분)\n",
      "총 탑승 승객 : 7 명\n",
      "[] 31 번째 손님(소요시간 : 18 분)\n",
      "총 탑승 승객 : 7 명\n",
      "[] 32 번째 손님(소요시간 : 36 분)\n",
      "총 탑승 승객 : 7 명\n",
      "[] 33 번째 손님(소요시간 : 21 분)\n",
      "총 탑승 승객 : 7 명\n",
      "[O] 34 번째 손님(소요시간 : 6 분)\n",
      "총 탑승 승객 : 8 명\n",
      "[] 35 번째 손님(소요시간 : 39 분)\n",
      "총 탑승 승객 : 8 명\n",
      "[] 36 번째 손님(소요시간 : 19 분)\n",
      "총 탑승 승객 : 8 명\n",
      "[] 37 번째 손님(소요시간 : 49 분)\n",
      "총 탑승 승객 : 8 명\n",
      "[] 38 번째 손님(소요시간 : 46 분)\n",
      "총 탑승 승객 : 8 명\n",
      "[] 39 번째 손님(소요시간 : 36 분)\n",
      "총 탑승 승객 : 8 명\n",
      "[] 40 번째 손님(소요시간 : 47 분)\n",
      "총 탑승 승객 : 8 명\n",
      "[O] 41 번째 손님(소요시간 : 9 분)\n",
      "총 탑승 승객 : 9 명\n",
      "[] 42 번째 손님(소요시간 : 37 분)\n",
      "총 탑승 승객 : 9 명\n",
      "[] 43 번째 손님(소요시간 : 50 분)\n",
      "총 탑승 승객 : 9 명\n",
      "[] 44 번째 손님(소요시간 : 35 분)\n",
      "총 탑승 승객 : 9 명\n",
      "[] 45 번째 손님(소요시간 : 23 분)\n",
      "총 탑승 승객 : 9 명\n",
      "[O] 46 번째 손님(소요시간 : 14 분)\n",
      "총 탑승 승객 : 10 명\n",
      "[O] 47 번째 손님(소요시간 : 5 분)\n",
      "총 탑승 승객 : 11 명\n",
      "[] 48 번째 손님(소요시간 : 19 분)\n",
      "총 탑승 승객 : 11 명\n",
      "[] 49 번째 손님(소요시간 : 16 분)\n",
      "총 탑승 승객 : 11 명\n",
      "[] 50 번째 손님(소요시간 : 25 분)\n",
      "총 탑승 승객 : 11 명\n"
     ]
    }
   ],
   "source": [
    "#퀴즈 3. 당신은 Cocoa 서비스를 이용하는 택시기사님입니다.\n",
    "#50명의 승객과 매칭기회가 있을 때, 총 탑승승객수를 구하는 프로그램을 작성하시오.\n",
    "\n",
    "#조건1 : 승객별 운행소요시간은 5분~50분 사이의 난수로 정해집니다.\n",
    "#조건2 : 당신은 소요시간 5분~15분 사이의 승객만 매칭해야 합니다.\n",
    "\n",
    "#출력문예제\n",
    "#[O] 1번째 손님(소요시간 : 15분)\n",
    "#[] 2번째 손님(소요시간 : 50분)\n",
    "#[O] 3번째 손님(소요시간 : 5분)\n",
    "#...\n",
    "#[] 50번째 손님(소요시간 : 16분)\n",
    "#총 탑승 승객 : 2명\n",
    "\n",
    "import random\n",
    "\n",
    "#카운터\n",
    "count=0\n",
    "\n",
    "#반복문\n",
    "#if에서 들여쓰기 조심\n",
    "for customer in range(1,51):\n",
    "    time=random.randrange(5,51)\n",
    "    if 5<=time<16: \n",
    "        k=\"[O]\"\n",
    "        count=count+1\n",
    "    else:\n",
    "        k=\"[]\"\n",
    "    \n",
    "    print( k,customer,\"번째 손님(소요시간 :\",time ,\"분)\") \n",
    "    print(\"총 탑승 승객 :\",count,\"명\")"
   ]
  }
 ],
 "metadata": {
  "kernelspec": {
   "display_name": "Python 3 (ipykernel)",
   "language": "python",
   "name": "python3"
  },
  "language_info": {
   "codemirror_mode": {
    "name": "ipython",
    "version": 3
   },
   "file_extension": ".py",
   "mimetype": "text/x-python",
   "name": "python",
   "nbconvert_exporter": "python",
   "pygments_lexer": "ipython3",
   "version": "3.9.7"
  }
 },
 "nbformat": 4,
 "nbformat_minor": 5
}
