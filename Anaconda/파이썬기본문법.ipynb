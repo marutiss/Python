{
 "cells": [
  {
   "cell_type": "markdown",
   "id": "6feeadc0",
   "metadata": {},
   "source": [
    "# 파이썬 기본명령어"
   ]
  },
  {
   "cell_type": "code",
   "execution_count": 1,
   "id": "751a0391",
   "metadata": {},
   "outputs": [
    {
     "name": "stdout",
     "output_type": "stream",
     "text": [
      "Python 3.9.7\n"
     ]
    }
   ],
   "source": [
    "!python -V"
   ]
  },
  {
   "cell_type": "code",
   "execution_count": 2,
   "id": "2a06260a",
   "metadata": {},
   "outputs": [
    {
     "name": "stdout",
     "output_type": "stream",
     "text": [
      "hello world\n"
     ]
    }
   ],
   "source": [
    "print(\"hello world\")"
   ]
  },
  {
   "cell_type": "code",
   "execution_count": 3,
   "id": "c25bbdfa",
   "metadata": {},
   "outputs": [
    {
     "name": "stdout",
     "output_type": "stream",
     "text": [
      "5\n",
      "-10\n",
      "3.14\n",
      "100000\n",
      "8\n",
      "15\n",
      "24\n"
     ]
    }
   ],
   "source": [
    "#숫자형 자료형\n",
    "print(5)\n",
    "print(-10)\n",
    "print(3.14)\n",
    "print(100000)\n",
    "print(3+5)\n",
    "print(5*3)\n",
    "print(3*(3+5))"
   ]
  },
  {
   "cell_type": "code",
   "execution_count": 5,
   "id": "61b41f25",
   "metadata": {},
   "outputs": [
    {
     "name": "stdout",
     "output_type": "stream",
     "text": [
      "나비\n",
      "풍선\n",
      "쿠쿠루삥뽕\n",
      "하하하하하하하하하하\n"
     ]
    }
   ],
   "source": [
    "#문자열 자료형\n",
    "print(\"나비\")\n",
    "print('풍선')\n",
    "print('쿠쿠루삥뽕')\n",
    "print(\"하\"*10)"
   ]
  },
  {
   "cell_type": "code",
   "execution_count": 7,
   "id": "6da9c21b",
   "metadata": {},
   "outputs": [
    {
     "name": "stdout",
     "output_type": "stream",
     "text": [
      "False\n",
      "True\n",
      "True\n",
      "False\n",
      "False\n",
      "True\n",
      "True\n"
     ]
    }
   ],
   "source": [
    "#boolean 지료형\n",
    "print(5>10)\n",
    "print(10>5)\n",
    "print(True)\n",
    "print(False) #true\n",
    "print(not True)#false\n",
    "print(not False)#true\n",
    "print(not 5>10)#true"
   ]
  },
  {
   "cell_type": "code",
   "execution_count": 15,
   "id": "c6ce9597",
   "metadata": {},
   "outputs": [
    {
     "name": "stdout",
     "output_type": "stream",
     "text": [
      "우리집강아지이름은 복실이입니다\n",
      "복실이는 4살이며산책을 좋아합니다\n",
      "복실이는 어른일까요?True\n"
     ]
    }
   ],
   "source": [
    "#변수\n",
    "# print(\"우리집 강아지 이름은 동글이입니다\")\n",
    "# print(\"복실이는 4살이며 산책을 좋아합니다\")\n",
    "# print(\"복실이는 어른일까요? True\")\n",
    "\n",
    "animal=\"강아지\"\n",
    "name=\"복실이\"\n",
    "age=4\n",
    "hobby=\"산책\"\n",
    "Is_adult=age>=3\n",
    "print(\"우리집\"+animal+\"이름은 \"+name+\"입니다\")\n",
    "print(name+\"는 \"+str (age)+\"살이며\"+hobby+\"을 좋아합니다\")\n",
    "print(name+\"는 어른일까요?\"+str (Is_adult))"
   ]
  },
  {
   "cell_type": "code",
   "execution_count": 33,
   "id": "492a3085",
   "metadata": {},
   "outputs": [
    {
     "name": "stdout",
     "output_type": "stream",
     "text": [
      "우리집고양이이름은 야옹이입니다\n",
      "야옹이는 4살이며산책을 좋아합니다\n",
      "야옹이는 어른일까요? True\n"
     ]
    }
   ],
   "source": [
    "#변수를 선언하여 놓으면은 비슷하게 응용하여 사용할 수 있음\n",
    "animal=\"고양이\"\n",
    "name=\"야옹이\"\n",
    "age=4\n",
    "hobby=\"산책\"\n",
    "Is_adult=age>=3\n",
    "print(\"우리집\"+animal+\"이름은 \"+name+\"입니다\")\n",
    "print(name+\"는 \"+str (age)+\"살이며\"+hobby+\"을 좋아합니다\")\n",
    "print(name+\"는 어른일까요?\"Is_adult)"
   ]
  },
  {
   "cell_type": "code",
   "execution_count": 18,
   "id": "173ef411",
   "metadata": {},
   "outputs": [
    {
     "name": "stdout",
     "output_type": "stream",
     "text": [
      "우리집고양이이름은 야옹이입니다\n",
      "야옹이 는  4 살이며 산책 을 좋아합니다\n",
      "야옹이는 어른일까요?True\n"
     ]
    }
   ],
   "source": [
    "#콤마를 사용하면 변환없이 사용할수 있다. 콤마는 디폴트로 스페이스를 가져감\n",
    "animal=\"고양이\"\n",
    "name=\"야옹이\"\n",
    "age=4\n",
    "hobby=\"산책\"\n",
    "Is_adult=age>=3\n",
    "print(\"우리집\"+animal+\"이름은 \"+name+\"입니다\")\n",
    "print(name,\"는 \",age,\"살이며\",hobby,\"을 좋아합니다\")\n",
    "print(name+\"는 어른일까요?\"+str (Is_adult))"
   ]
  },
  {
   "cell_type": "code",
   "execution_count": 23,
   "id": "c3473fcd",
   "metadata": {},
   "outputs": [
    {
     "data": {
      "text/plain": [
       "'이렇게하면\\n여러문장이\\n주석처리\\n됩니다'"
      ]
     },
     "execution_count": 23,
     "metadata": {},
     "output_type": "execute_result"
    }
   ],
   "source": [
    "#주석?\n",
    "'''이렇게하면\n",
    "여러문장이\n",
    "주석처리\n",
    "됩니다'''"
   ]
  },
  {
   "cell_type": "code",
   "execution_count": 24,
   "id": "8afd6461",
   "metadata": {},
   "outputs": [],
   "source": [
    "#퀴즈\n",
    "#변수를 사용하여 다름문장을 출력사키시오\n",
    "#변수명: station\n",
    "# 변수값: 사당/신도림/인천공항..\n",
    "# 출력문장\n",
    "# xxx행 열차가 들어오고 있습니다"
   ]
  },
  {
   "cell_type": "code",
   "execution_count": 26,
   "id": "bbd48134",
   "metadata": {},
   "outputs": [
    {
     "name": "stdout",
     "output_type": "stream",
     "text": [
      "신도림 행 열차가 들어오고 있습니다\n"
     ]
    }
   ],
   "source": [
    "#answer\n",
    "station=\"신도림\"\n",
    "print(station,\"행 열차가 들어오고 있습니다\")"
   ]
  },
  {
   "cell_type": "code",
   "execution_count": 34,
   "id": "a0036e12",
   "metadata": {},
   "outputs": [
    {
     "name": "stdout",
     "output_type": "stream",
     "text": [
      "2\n",
      "1\n",
      "10\n",
      "3.0\n",
      "8\n",
      "1\n",
      "1\n",
      "3.3333333333333335\n",
      "1\n",
      "True\n",
      "False\n",
      "True\n",
      "True\n",
      "False\n",
      "True\n",
      "True\n",
      "True\n",
      "True\n",
      "True\n",
      "False\n"
     ]
    }
   ],
   "source": [
    "#연산자\n",
    "print(1+1)\n",
    "print(3-2)\n",
    "print(5*2)\n",
    "print(6/2)\n",
    "\n",
    "print(2**3) #2의 3승\n",
    "print(5%2)#나머지\n",
    "print(10%3)\n",
    "print(10/3)#몫 소수표시\n",
    "print(5//3)# 몫 소수생략\n",
    "\n",
    "print(3.==3)\n",
    "print(4==2)\n",
    "print(3+4==7)\n",
    "\n",
    "print(1!=3)\n",
    "print(not(1 !=3))#False\n",
    "print((3>0)and(3<5))#true\n",
    "print((3>0)&(3<5))\n",
    "\n",
    "print(((3>0)or(3>5)))\n",
    "print((3>0)|(3>5))\n",
    "\n",
    "print(5>4>3)\n",
    "print(5>4>7) #false"
   ]
  },
  {
   "cell_type": "code",
   "execution_count": 37,
   "id": "f50f5825",
   "metadata": {},
   "outputs": [
    {
     "name": "stdout",
     "output_type": "stream",
     "text": [
      "14\n",
      "20\n",
      "14\n",
      "16\n",
      "18\n",
      "36\n",
      "18.0\n",
      "16.0\n",
      "1.0\n"
     ]
    }
   ],
   "source": [
    "#간단한 수식들\n",
    "print(2+3*4) #14\n",
    "print((2+3)*4)#20\n",
    "number=2+3*4\n",
    "print(number)#14\n",
    "number=number+2\n",
    "print(number)#16\n",
    "number+=2 #number=number+2\n",
    "print(number)\n",
    "number*=2#number=number*2\n",
    "print(number)\n",
    "number /=2 #number=number/2\n",
    "print(number)\n",
    "number-=2 #number=number-2\n",
    "print(number)\n",
    "\n",
    "number%=5 #number=number%5\n",
    "print(number)"
   ]
  },
  {
   "cell_type": "code",
   "execution_count": 43,
   "id": "5cf02ded",
   "metadata": {},
   "outputs": [
    {
     "name": "stdout",
     "output_type": "stream",
     "text": [
      "5\n",
      "16.0\n",
      "12\n",
      "5\n",
      "3\n",
      "4\n",
      "4\n",
      "4\n",
      "5.0\n"
     ]
    }
   ],
   "source": [
    "#숫자처리함수\n",
    "print(abs(-5))\n",
    "print(pow(4,2))#16\n",
    "print(max(5,12))\n",
    "print(min(5,12))\n",
    "print(round(3.14))\n",
    "print(round(3.99))\n",
    "\n",
    "from math import *\n",
    "print(floor(4.99))\n",
    "print(ceil(3.001))#4\n",
    "print(sqrt(25))"
   ]
  },
  {
   "cell_type": "code",
   "execution_count": 49,
   "id": "5dd15462",
   "metadata": {},
   "outputs": [
    {
     "name": "stdout",
     "output_type": "stream",
     "text": [
      "0.5043494551614502\n",
      "2.198058010814443\n",
      "8\n",
      "로또추첨기\n",
      "33\n",
      "24\n",
      "17\n",
      "17\n",
      "15\n",
      "23\n",
      "로또값을 생성하는 방법2\n",
      "29\n",
      "44\n",
      "43\n",
      "5\n",
      "15\n",
      "4\n"
     ]
    }
   ],
   "source": [
    "#랜덤함수\n",
    "from random import *\n",
    "print(random()) #0~1미만의 임의의 값을 생성\n",
    "print(random()*10)\n",
    "print(int(random()*10))\n",
    "\n",
    "#로또값을 생성하는 방법\n",
    "print(\"로또추첨기\")\n",
    "print(int(random()*45)+1)\n",
    "print(int(random()*45)+1)\n",
    "print(int(random()*45)+1)\n",
    "print(int(random()*45)+1)\n",
    "print(int(random()*45)+1)\n",
    "print(int(random()*45)+1)\n",
    "\n",
    "print(\"로또값을 생성하는 방법2\")\n",
    "print(randint(1,45))#1~45이하의 겂울 뽑아준다\n",
    "print(randint(1,45))\n",
    "print(randint(1,45))\n",
    "print(randint(1,45))\n",
    "print(randint(1,45))\n",
    "print(randint(1,45))"
   ]
  },
  {
   "cell_type": "code",
   "execution_count": 50,
   "id": "674fd251",
   "metadata": {},
   "outputs": [
    {
     "name": "stdout",
     "output_type": "stream",
     "text": [
      "오프라인 스터디 모임날짜는 매월 23 일로 선정되었습니다\n"
     ]
    }
   ],
   "source": [
    "# 퀴즈2\n",
    "# 당신은 최근에 코딩스터디모임 일정을 잡으려고 합니다\n",
    "# 월 4회 스터디를 하는데 3번은 온라인으로 1번은 오프라인으로 진행하기로 함\n",
    "# 아래 조건에 맞는 오프라인 모임 날짜를 정합시다\n",
    "# 조건1 :랜덤으로 날자를 뽑을것\n",
    "# 조건2 : 월별날자는 다름을 참고하여 최소일수는 28일 이내로 설정\n",
    "# 조건3 : 매월 1~3일은 스터디 준비를 하는 시간이므로 제외\n",
    "\n",
    "# 출력문은\n",
    "# 오프라인스터디 모임날짜는 매월 x일로 선정되었습니다\n",
    "\n",
    "#my ans\n",
    "a=randint(4,28)\n",
    "print(\"오프라인 스터디 모임날짜는 매월\",a,\"일로 선정되었습니다\")"
   ]
  },
  {
   "cell_type": "code",
   "execution_count": 52,
   "id": "97933c2d",
   "metadata": {},
   "outputs": [
    {
     "name": "stdout",
     "output_type": "stream",
     "text": [
      "오프라인 스터디 모임날자는 매월 15일로 선정되었습니다\n"
     ]
    }
   ],
   "source": [
    "#answer\n",
    "from random import *\n",
    "date=randint(4,28)\n",
    "print(\"오프라인 스터디 모임날자는 매월 \"+str(date)+\"일로 선정되었습니다\")"
   ]
  },
  {
   "cell_type": "code",
   "execution_count": 55,
   "id": "fd2bd66c",
   "metadata": {},
   "outputs": [
    {
     "name": "stdout",
     "output_type": "stream",
     "text": [
      "나는 소년입니다!\n",
      "파이썬은 쉬워요\n",
      "\n",
      "나는소년이고\n",
      "파이선은 쉬워요\n"
     ]
    }
   ],
   "source": [
    "#문자열\n",
    "sentence=\"나는 소년입니다!\"\n",
    "print(sentence)\n",
    "\n",
    "sentence2=\"파이썬은 쉬워요\"\n",
    "print(sentence2)\n",
    "\n",
    "sentence3='''\n",
    "나는소년이고\n",
    "파이선은 쉬워요'''\n",
    "print(sentence3)"
   ]
  },
  {
   "cell_type": "code",
   "execution_count": 61,
   "id": "e67bb1a6",
   "metadata": {},
   "outputs": [
    {
     "name": "stdout",
     "output_type": "stream",
     "text": [
      "성별: 1\n",
      "년:99\n",
      "월:12\n",
      "일:12\n",
      "생년월일:991212\n",
      "뒤 7자리:1234567\n",
      "뒤 7자리(뒤에서 7자리):1234567\n"
     ]
    }
   ],
   "source": [
    "#슬라이싱\n",
    "jumin=\"991212-1234567\"\n",
    "print(\"성별: \"+jumin[7])\n",
    "print(\"년:\"+jumin[0:2]) #0부터 2직전까지\n",
    "print(\"월:\"+jumin[2:4])\n",
    "print(\"일:\"+jumin[4:6])\n",
    "\n",
    "print(\"생년월일:\"+jumin[:6]) #처음부터 6직전까지, 커서 위치로 띵킹\n",
    "print(\"뒤 7자리:\"+jumin[7:])\n",
    "print(\"뒤 7자리(뒤에서 7자리):\"+jumin[-7:]) #맨뒤부터 7번째부터 끝까지"
   ]
  }
 ],
 "metadata": {
  "kernelspec": {
   "display_name": "Python 3 (ipykernel)",
   "language": "python",
   "name": "python3"
  },
  "language_info": {
   "codemirror_mode": {
    "name": "ipython",
    "version": 3
   },
   "file_extension": ".py",
   "mimetype": "text/x-python",
   "name": "python",
   "nbconvert_exporter": "python",
   "pygments_lexer": "ipython3",
   "version": "3.9.7"
  }
 },
 "nbformat": 4,
 "nbformat_minor": 5
}
